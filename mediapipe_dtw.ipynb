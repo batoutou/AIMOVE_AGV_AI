{
 "cells": [
  {
   "cell_type": "markdown",
   "metadata": {},
   "source": [
    "Resources Used\n",
    "- wget.download('https://tensorflow-object-detection-api-tutorial.readthedocs.io/en/latest/_downloads/da4babe668a8afb093cc7776d7e630f3/generate_tfrecord.py')\n",
    "- Setup https://tensorflow-object-detection-api-tutorial.readthedocs.io/en/latest/install.html\n",
    "\n",
    "https://google.github.io/mediapipe/solutions/pose_classification.html#colabs\n",
    "https://fr.acervolima.com/detection-de-reperes-de-visage-et-de-main-a-l-aide-de-python-mediapipe-opencv/\n",
    "https://medium.com/analytics-vidhya/human-pose-comparison-and-action-scoring-using-deep-learning-opencv-python-c2bdf0ddecba\n",
    "\n",
    "https://github.com/gabguerin/hand-gesture-recognition-mediapipe"
   ]
  },
  {
   "cell_type": "markdown",
   "metadata": {},
   "source": [
    "# 0. Setup Paths"
   ]
  },
  {
   "cell_type": "code",
   "execution_count": 81,
   "metadata": {},
   "outputs": [
    {
     "name": "stdout",
     "output_type": "stream",
     "text": [
      "[1 2 3]\n"
     ]
    }
   ],
   "source": [
    "L=[1,2,3]\n",
    "print(np.array(L))"
   ]
  },
  {
   "cell_type": "code",
   "execution_count": 88,
   "metadata": {},
   "outputs": [
    {
     "name": "stdout",
     "output_type": "stream",
     "text": [
      "[[1 2 3]\n",
      " [1 2 3]]\n"
     ]
    }
   ],
   "source": [
    "import numpy as np\n",
    "\n",
    "array = np.empty((0,3), int)\n",
    "\n",
    "array = np.append(array, np.array([L]), axis=0)\n",
    "array = np.append(array, np.array([L]), axis=0)\n",
    "\n",
    "print(array)\n"
   ]
  },
  {
   "cell_type": "code",
   "execution_count": 91,
   "metadata": {},
   "outputs": [],
   "source": [
    "import  cv2\n",
    "import pandas as pd\n",
    "import numpy as np\n",
    "import mediapipe as mp\n",
    "import copy\n",
    "\n",
    "mp_hands = mp.solutions.hands\n",
    "\n",
    "class myClass:\n",
    "    def __init__(self, val):\n",
    "        self.val=val\n",
    "    def getVal(self):\n",
    "        return self.val  \n",
    "\n",
    "def read_video(path):\n",
    "    mp_hands = mp.solutions.hands\n",
    "    cap = cv2.VideoCapture(path)\n",
    "\n",
    "    #construct head of the dataframe\n",
    "    title=['frame']\n",
    "    for i in range(21):\n",
    "        title.append(str(i)+'_x')\n",
    "        title.append(str(i)+'_y')\n",
    "    df = pd.DataFrame(columns=title)\n",
    "\n",
    "    idx=0\n",
    "\n",
    "    with mp_hands.Hands(\n",
    "        model_complexity=0,\n",
    "        min_detection_confidence=0.5,\n",
    "        min_tracking_confidence=0.5) as hands:\n",
    "        while cap.isOpened():\n",
    "            success, image = cap.read()\n",
    "            if not success:\n",
    "                print(\"Ignoring empty camera frame.\")\n",
    "                break\n",
    "\n",
    "            # To improve performance, optionally mark the image as not writeable to pass by reference.\n",
    "            image.flags.writeable = False\n",
    "            #image = cv2.cvtColor(image, cv2.COLOR_BGR2RGB)\n",
    "            results = hands.process(image)\n",
    "\n",
    "            image = cv2.cvtColor(image, cv2.COLOR_RGB2BGR)\n",
    "\n",
    "            if results.multi_hand_landmarks:\n",
    "                image_height, image_width, _ = image.shape\n",
    "\n",
    "            if results.multi_hand_landmarks:\n",
    "                L1=[]\n",
    "                L1.append(idx)\n",
    "                for i in range(21):\n",
    "                    try :\n",
    "                    #results.multi_handedness[0].classification[0].label\n",
    "                        L1.append(results.multi_hand_landmarks[0].landmark[i].x * image_width)\n",
    "                        L1.append(results.multi_hand_landmarks[0].landmark[i].y * image_height)\n",
    "                    except:\n",
    "                        L1.append(np.nan)\n",
    "                        L1.append(np.nan)\n",
    "                L1=normlization(L1)\n",
    "                df_temp = pd.Series(L1, index = df.columns)\n",
    "                df.loc[len(df)] = df_temp\n",
    "                idx+=1\n",
    "            \n",
    "            pressedKey = cv2.waitKey(1) & 0xFF\n",
    "            if pressedKey == ord(\"q\"):  # Record pressing r\n",
    "                break\n",
    "\n",
    "    cap.release()\n",
    "    return df\n",
    "\n",
    "\n",
    "\n",
    "\n",
    "def normlization(L1):\n",
    "    L=copy.copy(L1)\n",
    "    #L=L[1:]\n",
    "    x_base,y_base=0,0\n",
    "    for i in range(1,len(L),2):\n",
    "        if(i==0):\n",
    "            x_base,y_base=L[0],L[1]\n",
    "            L[0],L[1]=0,0\n",
    "        else:\n",
    "            L[i]=L[i]-x_base\n",
    "            L[i+1]=L[i+1]-y_base\n",
    "    return L\n",
    "\n",
    "\n",
    "\n"
   ]
  },
  {
   "cell_type": "code",
   "execution_count": 46,
   "metadata": {},
   "outputs": [],
   "source": [
    "#   Main droite\n",
    "# results.multi_hand_landmarks[0]\n",
    "\n",
    "#hand_landmarks.landmark[1].x \n",
    "#results.multi_hand_landmarks[1]\n"
   ]
  },
  {
   "cell_type": "code",
   "execution_count": null,
   "metadata": {},
   "outputs": [
    {
     "data": {
      "text/plain": [
       "0.6501518487930298"
      ]
     },
     "execution_count": 33,
     "metadata": {},
     "output_type": "execute_result"
    }
   ],
   "source": [
    "# results.multi_hand_landmarks[0]\n",
    "\n",
    "# hand_landmarks.landmark[mp_hands.HandLandmark.INDEX_FINGER_TIP].x\n"
   ]
  },
  {
   "cell_type": "markdown",
   "metadata": {},
   "source": [
    "Webcam with buffer"
   ]
  },
  {
   "cell_type": "code",
   "execution_count": 125,
   "metadata": {},
   "outputs": [
    {
     "name": "stdout",
     "output_type": "stream",
     "text": [
      "len L1 :  43\n",
      "len L1 :  43\n",
      "len L1 :  43\n",
      "len L1 :  43\n",
      "len L1 :  43\n",
      "len L1 :  43\n",
      "len L1 :  43\n",
      "len L1 :  43\n",
      "len L1 :  43\n",
      "len L1 :  43\n",
      "len L1 :  43\n",
      "len L1 :  43\n",
      "len L1 :  43\n",
      "len L1 :  43\n",
      "len L1 :  43\n",
      "len L1 :  43\n",
      "len L1 :  43\n",
      "len L1 :  43\n",
      "len L1 :  43\n",
      "len L1 :  43\n",
      "len L1 :  43\n",
      "len L1 :  43\n",
      "len L1 :  43\n",
      "len L1 :  43\n",
      "len L1 :  43\n",
      "len L1 :  43\n",
      "len L1 :  43\n",
      "len L1 :  43\n",
      "len L1 :  43\n",
      "len L1 :  43\n",
      "len L1 :  43\n",
      "len L1 :  43\n",
      "len L1 :  43\n",
      "len L1 :  43\n",
      "len L1 :  43\n",
      "len L1 :  43\n",
      "len L1 :  43\n",
      "len L1 :  43\n",
      "len L1 :  43\n",
      "len L1 :  43\n",
      "len L1 :  43\n",
      "len L1 :  43\n",
      "len L1 :  43\n",
      "len L1 :  43\n",
      "len L1 :  43\n",
      "len L1 :  43\n",
      "len L1 :  43\n",
      "len L1 :  43\n",
      "len L1 :  43\n",
      "len L1 :  43\n",
      "len L1 :  43\n",
      "len L1 :  43\n",
      "len L1 :  43\n",
      "len L1 :  43\n",
      "len L1 :  43\n",
      "len L1 :  43\n",
      "len L1 :  43\n",
      "len L1 :  43\n",
      "len L1 :  43\n",
      "len L1 :  43\n",
      "len L1 :  43\n",
      "len L1 :  43\n",
      "len L1 :  43\n",
      "len L1 :  43\n",
      "len L1 :  43\n",
      "len L1 :  43\n",
      "len L1 :  43\n",
      "len L1 :  43\n",
      "len L1 :  43\n",
      "len L1 :  43\n",
      "len L1 :  43\n",
      "len L1 :  43\n",
      "len L1 :  43\n",
      "len L1 :  43\n",
      "len L1 :  43\n",
      "len L1 :  43\n",
      "len L1 :  43\n",
      "len L1 :  43\n",
      "len L1 :  43\n",
      "len L1 :  43\n",
      "len L1 :  43\n",
      "len L1 :  43\n",
      "len L1 :  43\n",
      "len L1 :  43\n",
      "len L1 :  43\n",
      "len L1 :  43\n",
      "len L1 :  43\n",
      "len L1 :  43\n",
      "len L1 :  43\n",
      "len L1 :  43\n",
      "len L1 :  43\n",
      "len L1 :  43\n",
      "len L1 :  43\n",
      "len L1 :  43\n",
      "len L1 :  43\n",
      "len L1 :  43\n",
      "len L1 :  43\n",
      "len L1 :  43\n",
      "len L1 :  43\n",
      "len L1 :  43\n",
      "len L1 :  43\n",
      "len L1 :  43\n",
      "len L1 :  43\n",
      "len L1 :  43\n",
      "len L1 :  43\n",
      "len L1 :  43\n",
      "len L1 :  43\n",
      "len L1 :  43\n",
      "len L1 :  43\n",
      "len L1 :  43\n",
      "len L1 :  43\n",
      "len L1 :  43\n",
      "len L1 :  43\n",
      "len L1 :  43\n",
      "len L1 :  43\n",
      "len L1 :  43\n",
      "len L1 :  43\n",
      "len L1 :  43\n",
      "len L1 :  43\n",
      "len L1 :  43\n",
      "len L1 :  43\n",
      "len L1 :  43\n",
      "len L1 :  43\n",
      "len L1 :  43\n",
      "len L1 :  43\n",
      "len L1 :  43\n",
      "len L1 :  43\n",
      "len L1 :  43\n",
      "len L1 :  43\n",
      "len L1 :  43\n",
      "len L1 :  43\n",
      "len L1 :  43\n",
      "len L1 :  43\n",
      "len L1 :  43\n",
      "len L1 :  43\n",
      "len L1 :  43\n",
      "len L1 :  43\n",
      "len L1 :  43\n",
      "len L1 :  43\n",
      "len L1 :  43\n",
      "len L1 :  43\n",
      "len L1 :  43\n",
      "len L1 :  43\n",
      "len L1 :  43\n",
      "len L1 :  43\n",
      "len L1 :  43\n",
      "len L1 :  43\n",
      "len L1 :  43\n",
      "len L1 :  43\n",
      "len L1 :  43\n",
      "len L1 :  43\n",
      "len L1 :  43\n",
      "len L1 :  43\n",
      "len L1 :  43\n",
      "len L1 :  43\n",
      "len L1 :  43\n",
      "len L1 :  43\n",
      "len L1 :  43\n",
      "len L1 :  43\n",
      "len L1 :  43\n",
      "len L1 :  43\n",
      "len L1 :  43\n",
      "len L1 :  43\n",
      "len L1 :  43\n",
      "len L1 :  43\n",
      "len L1 :  43\n",
      "len L1 :  43\n",
      "len L1 :  43\n",
      "len L1 :  43\n",
      "len L1 :  43\n",
      "len L1 :  43\n",
      "len L1 :  43\n",
      "len L1 :  43\n",
      "len L1 :  43\n",
      "len L1 :  43\n",
      "len L1 :  43\n",
      "len L1 :  43\n",
      "len L1 :  43\n",
      "len L1 :  43\n",
      "len L1 :  43\n",
      "len L1 :  43\n",
      "len L1 :  43\n",
      "len L1 :  43\n",
      "len L1 :  43\n",
      "len L1 :  43\n",
      "len L1 :  43\n",
      "len L1 :  43\n",
      "len L1 :  43\n"
     ]
    }
   ],
   "source": [
    "# import cv2\n",
    "# import time\n",
    "# import mediapipe as mp\n",
    "# import collections\n",
    "# d = collections.deque(maxlen=30)\n",
    "\n",
    "# mp_drawing = mp.solutions.drawing_utils\n",
    "# mp_drawing_styles = mp.solutions.drawing_styles\n",
    "# mp_hands = mp.solutions.hands\n",
    "\n",
    "# # For webcam input:\n",
    "# cap = cv2.VideoCapture(0)\n",
    "# previousTime = 0\n",
    "# currentTime = 0\n",
    "\n",
    "# title=['frame']\n",
    "# for i in range(21):\n",
    "#     title.append(str(i)+'_x')\n",
    "#     title.append(str(i)+'_y')\n",
    "# df = pd.DataFrame(columns=title)\n",
    "# idx=0\n",
    "\n",
    "\n",
    "# with mp_hands.Hands(\n",
    "#     model_complexity=0,\n",
    "#     min_detection_confidence=0.5,\n",
    "#     min_tracking_confidence=0.5) as hands:\n",
    "#   while True:#cap.isOpened():\n",
    "#         # Find OpenCV version\n",
    "#     (major_ver, minor_ver, subminor_ver) = (cv2.__version__).split('.')\n",
    "\n",
    "#     success, image = cap.read()\n",
    "#     if not success:\n",
    "#       print(\"Ignoring empty camera frame.\")\n",
    "#       # If loading a video, use 'break' instead of 'continue'.\n",
    "#       continue\n",
    "\n",
    "#     # To improve performance, optionally mark the image as not writeable to\n",
    "#     # pass by reference.\n",
    "#     image.flags.writeable = False\n",
    "#     image = cv2.cvtColor(image, cv2.COLOR_BGR2RGB)\n",
    "#     results = hands.process(image)\n",
    "\n",
    "#     image.flags.writeable = True\n",
    "#     image = cv2.cvtColor(image, cv2.COLOR_RGB2BGR)\n",
    "    \n",
    "#     if results.multi_hand_landmarks:\n",
    "#       for hand_landmarks in results.multi_hand_landmarks:\n",
    "#         mp_drawing.draw_landmarks(\n",
    "#             image,\n",
    "#             hand_landmarks,\n",
    "#             mp_hands.HAND_CONNECTIONS,\n",
    "#             mp_drawing_styles.get_default_hand_landmarks_style(),\n",
    "#             mp_drawing_styles.get_default_hand_connections_style())\n",
    "\n",
    "#     if results.multi_hand_landmarks:\n",
    "#       image_height, image_width, _ = image.shape\n",
    "\n",
    "#     if results.multi_hand_landmarks:\n",
    "#       L1=[]\n",
    "#       L1.append(idx)\n",
    "#       for i in range(21):\n",
    "#           try :\n",
    "#           #results.multi_handedness[0].classification[0].label\n",
    "#               L1.append(results.multi_hand_landmarks[0].landmark[i].x * image_width)\n",
    "#               L1.append(results.multi_hand_landmarks[0].landmark[i].y * image_height)\n",
    "#           except:\n",
    "#               L1.append(np.nan)\n",
    "#               L1.append(np.nan)\n",
    "\n",
    "#     d.append(normlization(L1))\n",
    "#     idx+=1\n",
    "    \n",
    "#     image=cv2.flip(image, 1)\n",
    "#     # Calculating the FPS\n",
    "#     currentTime = time.time()\n",
    "#     fps = 1 / (currentTime-previousTime)\n",
    "#     previousTime = currentTime\n",
    "#     # Displaying FPS on the image\n",
    "#     cv2.putText(image, str(int(fps))+\" FPS\", (10, 70), cv2.FONT_HERSHEY_COMPLEX, 1, (0,255,0), 2)\n",
    "#     # Flip the image horizontally for a selfie-view display.\n",
    "#     cv2.imshow('MediaPipe Hands', image)\n",
    "\n",
    "#     pressedKey = cv2.waitKey(1) & 0xFF\n",
    "#     if pressedKey == ord(\"q\"):  # Record pressing r\n",
    "#       cap.release()\n",
    "#       break\n",
    "\n",
    "\n",
    "# #print(d)\n",
    "\n"
   ]
  },
  {
   "cell_type": "code",
   "execution_count": 4,
   "metadata": {},
   "outputs": [
    {
     "ename": "NameError",
     "evalue": "name 'hmm_models' is not defined",
     "output_type": "error",
     "traceback": [
      "\u001b[1;31m---------------------------------------------------------------------------\u001b[0m",
      "\u001b[1;31mNameError\u001b[0m                                 Traceback (most recent call last)",
      "\u001b[1;32mc:\\Users\\franc\\Documents\\GitHub\\AIMOVE_AGV_AI\\mediapipe_dtw.ipynb Cell 10'\u001b[0m in \u001b[0;36m<module>\u001b[1;34m\u001b[0m\n\u001b[0;32m     <a href='vscode-notebook-cell:/c%3A/Users/franc/Documents/GitHub/AIMOVE_AGV_AI/mediapipe_dtw.ipynb#ch0000009?line=82'>83</a>\u001b[0m \u001b[39mif\u001b[39;00m (idx\u001b[39m>\u001b[39m\u001b[39m30\u001b[39m):\n\u001b[0;32m     <a href='vscode-notebook-cell:/c%3A/Users/franc/Documents/GitHub/AIMOVE_AGV_AI/mediapipe_dtw.ipynb#ch0000009?line=83'>84</a>\u001b[0m   resultats\u001b[39m=\u001b[39m[]\n\u001b[1;32m---> <a href='vscode-notebook-cell:/c%3A/Users/franc/Documents/GitHub/AIMOVE_AGV_AI/mediapipe_dtw.ipynb#ch0000009?line=84'>85</a>\u001b[0m   \u001b[39mfor\u001b[39;00m hmm_model_num \u001b[39min\u001b[39;00m \u001b[39mrange\u001b[39m(\u001b[39mlen\u001b[39m(hmm_models)):\n\u001b[0;32m     <a href='vscode-notebook-cell:/c%3A/Users/franc/Documents/GitHub/AIMOVE_AGV_AI/mediapipe_dtw.ipynb#ch0000009?line=85'>86</a>\u001b[0m       res\u001b[39m=\u001b[39mhmm_models[hmm_model_num]\u001b[39m.\u001b[39mscore(np\u001b[39m.\u001b[39marray(buff_np))\n\u001b[0;32m     <a href='vscode-notebook-cell:/c%3A/Users/franc/Documents/GitHub/AIMOVE_AGV_AI/mediapipe_dtw.ipynb#ch0000009?line=86'>87</a>\u001b[0m       resultats\u001b[39m.\u001b[39mappend(res)\n",
      "\u001b[1;31mNameError\u001b[0m: name 'hmm_models' is not defined"
     ]
    }
   ],
   "source": [
    "import cv2\n",
    "import time\n",
    "import mediapipe as mp\n",
    "import collections\n",
    "d = collections.deque(maxlen=30)\n",
    "\n",
    "mp_drawing = mp.solutions.drawing_utils\n",
    "mp_drawing_styles = mp.solutions.drawing_styles\n",
    "mp_hands = mp.solutions.hands\n",
    "\n",
    "# For webcam input:\n",
    "cap = cv2.VideoCapture(0)\n",
    "previousTime = 0\n",
    "currentTime = 0\n",
    "\n",
    "seuil=-10000\n",
    "buff_np=np.zeros([30,42])\n",
    "\n",
    "title=['frame']\n",
    "for i in range(21):\n",
    "    title.append(str(i)+'_x')\n",
    "    title.append(str(i)+'_y')\n",
    "df = pd.DataFrame(columns=title)\n",
    "idx=0\n",
    "\n",
    "hands= mp_hands.Hands(\n",
    "    model_complexity=0,\n",
    "    min_detection_confidence=0.5,\n",
    "    min_tracking_confidence=0.5)\n",
    "\n",
    "# with mp_hands.Hands(\n",
    "#     model_complexity=0,\n",
    "#     min_detection_confidence=0.5,\n",
    "#     min_tracking_confidence=0.5) as hands:\n",
    "while True:#cap.isOpened():\n",
    "      # Find OpenCV version\n",
    "  (major_ver, minor_ver, subminor_ver) = (cv2.__version__).split('.')\n",
    "\n",
    "  success, image = cap.read()\n",
    "  if not success:\n",
    "    print(\"Ignoring empty camera frame.\")\n",
    "    # If loading a video, use 'break' instead of 'continue'.\n",
    "    continue\n",
    "\n",
    "  # To improve performance, optionally mark the image as not writeable to\n",
    "  # pass by reference.\n",
    "  image.flags.writeable = False\n",
    "  image = cv2.cvtColor(image, cv2.COLOR_BGR2RGB)\n",
    "  results = hands.process(image)\n",
    "\n",
    "  image.flags.writeable = True\n",
    "  image = cv2.cvtColor(image, cv2.COLOR_RGB2BGR)\n",
    "  \n",
    "  if results.multi_hand_landmarks:\n",
    "    for hand_landmarks in results.multi_hand_landmarks:\n",
    "      mp_drawing.draw_landmarks(\n",
    "          image,\n",
    "          hand_landmarks,\n",
    "          mp_hands.HAND_CONNECTIONS,\n",
    "          mp_drawing_styles.get_default_hand_landmarks_style(),\n",
    "          mp_drawing_styles.get_default_hand_connections_style())\n",
    "\n",
    "  if results.multi_hand_landmarks:\n",
    "    image_height, image_width, _ = image.shape\n",
    "  L1=[]\n",
    "  if results.multi_hand_landmarks:\n",
    "    L1=[]\n",
    "    L1.append(idx)\n",
    "    for i in range(21):\n",
    "        try :\n",
    "        #results.multi_handedness[0].classification[0].label\n",
    "            L1.append(results.multi_hand_landmarks[0].landmark[i].x * image_width)\n",
    "            L1.append(results.multi_hand_landmarks[0].landmark[i].y * image_height)\n",
    "        except:\n",
    "            L1.append(np.nan)\n",
    "            L1.append(np.nan)\n",
    "\n",
    "  d.append(normlization(L1))\n",
    "  buff_np = np.array(d)[:, 1:]\n",
    "  #buff_np = np.array(d)\n",
    "\n",
    "  idx+=1\n",
    "  if (idx>30):\n",
    "    resultats=[]\n",
    "    for hmm_model_num in range(len(hmm_models)):\n",
    "        res=hmm_models[hmm_model_num].score(np.array(buff_np))\n",
    "        resultats.append(res)\n",
    "    print(resultats)\n",
    "    ide=resultats.index(max(resultats))\n",
    "    print(\"Best model : \", classes[ide])\n",
    "    \n",
    "    # seuil=-20000\n",
    "    # if (max(resultats) > seuil):\n",
    "    #   ide=resultats.index(max(resultats))\n",
    "    #   print(\"Best model : \", classes[ide])\n",
    "    # else:\n",
    "    #   print(\"No matching signs \")\n",
    "\n",
    "  \n",
    "  image=cv2.flip(image, 1)\n",
    "  # Calculating the FPS\n",
    "  currentTime = time.time()\n",
    "  fps = 1 / (currentTime-previousTime)\n",
    "  previousTime = currentTime\n",
    "  # Displaying FPS on the image\n",
    "  cv2.putText(image, str(int(fps))+\" FPS\", (10, 70), cv2.FONT_HERSHEY_COMPLEX, 1, (0,255,0), 2)\n",
    "  # Flip the image horizontally for a selfie-view display.\n",
    "  cv2.imshow('MediaPipe Hands', image)\n",
    "\n",
    "  pressedKey = cv2.waitKey(1) & 0xFF\n",
    "  if pressedKey == ord(\"q\"): \n",
    "    cap.release()\n",
    "    break\n",
    "\n",
    "#print(d)"
   ]
  },
  {
   "cell_type": "code",
   "execution_count": null,
   "metadata": {},
   "outputs": [],
   "source": []
  },
  {
   "cell_type": "code",
   "execution_count": null,
   "metadata": {},
   "outputs": [
    {
     "name": "stdout",
     "output_type": "stream",
     "text": [
      "z\n"
     ]
    }
   ],
   "source": [
    "\n",
    "try :\n",
    "    ax = results.multi_handedness[0].classification[0].label\n",
    "    \n",
    "except:\n",
    "    print(\"z\")"
   ]
  },
  {
   "cell_type": "code",
   "execution_count": 5,
   "metadata": {},
   "outputs": [],
   "source": [
    "import cv2\n",
    "import mediapipe as mp\n",
    "import numpy as np\n",
    "import pandas as pd\n",
    "import time\n",
    "mp_drawing = mp.solutions.drawing_utils\n",
    "mp_drawing_styles = mp.solutions.drawing_styles\n",
    "mp_hands = mp.solutions.hands\n",
    "L=[0,0,0,0,0]\n",
    "\n",
    "previousTime = 0\n",
    "currentTime = 0\n",
    "\n",
    "# For webcam input:\n",
    "#cap = cv2.VideoCapture(0)\n",
    "\n",
    "# For video on the laptop:\n",
    "cap = cv2.VideoCapture(r'C:\\Users\\franc\\Desktop\\RT_Detection_AGV\\data\\pouce\\pouce_test.mp4')\n",
    "\n",
    "title=['frame']\n",
    "for i in range(21):\n",
    "  title.append(str(i)+'_x')\n",
    "  title.append(str(i)+'_y')\n",
    "df = pd.DataFrame(columns=title)#['frame','x_r_hand','y_r_hand','x_l_hand','y_l_hand'])\n",
    "\n",
    "idx,x=0,0\n",
    "data=np.array([])\n",
    "\n",
    "with mp_hands.Hands(\n",
    "    model_complexity=0,\n",
    "    min_detection_confidence=0.5,\n",
    "    min_tracking_confidence=0.5) as hands:\n",
    "  while cap.isOpened():\n",
    "    success, image = cap.read()\n",
    "    if not success:\n",
    "      print(\"Ignoring empty camera frame.\")\n",
    "      break\n",
    "      # If loading a video, use 'break' instead of 'continue'.\n",
    "      continue\n",
    "\n",
    "    # To improve performance, optionally mark the image as not writeable to pass by reference.\n",
    "    image.flags.writeable = False\n",
    "    image = cv2.cvtColor(image, cv2.COLOR_BGR2RGB)\n",
    "    results = hands.process(image)\n",
    "\n",
    "    # Draw the hand annotations on the image.\n",
    "    image.flags.writeable = True\n",
    "    image = cv2.cvtColor(image, cv2.COLOR_RGB2BGR)\n",
    "   \n",
    "    if results.multi_hand_landmarks:\n",
    "      image_height, image_width, _ = image.shape\n",
    "      for hand_landmarks in results.multi_hand_landmarks:\n",
    "   \n",
    "        mp_drawing.draw_landmarks(\n",
    "            image,\n",
    "            hand_landmarks,\n",
    "            mp_hands.HAND_CONNECTIONS,\n",
    "            mp_drawing_styles.get_default_hand_landmarks_style(),\n",
    "            mp_drawing_styles.get_default_hand_connections_style())\n",
    "    # Flip the image horizontally for a selfie-view display.\n",
    "    image=cv2.flip(image, 1)\n",
    "    # Calculating the FPS\n",
    "    currentTime = time.time()\n",
    "    fps = 1 / (currentTime-previousTime)\n",
    "    previousTime = currentTime\n",
    "    # Displaying FPS on the image\n",
    "    cv2.putText(image, str(int(fps))+\" FPS\", (10, 70), cv2.FONT_HERSHEY_COMPLEX, 1, (0,255,0), 2)\n",
    "    # Flip the image horizontally for a selfie-view display.\n",
    "    cv2.imshow('MediaPipe Hands', image)\n",
    "    \n",
    "    pressedKey = cv2.waitKey(1) & 0xFF\n",
    "    if pressedKey == ord(\"q\"):  # Record pressing r\n",
    "      break\n",
    "\n",
    "  cap.release()"
   ]
  },
  {
   "cell_type": "markdown",
   "metadata": {},
   "source": [
    "Test HMM"
   ]
  },
  {
   "cell_type": "code",
   "execution_count": 92,
   "metadata": {},
   "outputs": [
    {
     "name": "stdout",
     "output_type": "stream",
     "text": [
      "path of the classes : \n",
      "[['C:\\\\Users\\\\franc\\\\Desktop\\\\RT_Detection_AGV\\\\data\\\\train\\\\five'], ['C:\\\\Users\\\\franc\\\\Desktop\\\\RT_Detection_AGV\\\\data\\\\train\\\\pouce']]\n",
      "C:\\\\Users\\\\franc\\\\Desktop\\\\RT_Detection_AGV\\\\data\\\\train\\\\five\\test3.mp4\n",
      "C:\\\\Users\\\\franc\\\\Desktop\\\\RT_Detection_AGV\\\\data\\\\train\\\\pouce\\pouce_train.mp4\n"
     ]
    }
   ],
   "source": [
    "import glob\n",
    "path = r'C:\\Users\\franc\\Desktop\\RT_Detection_AGV\\data\\train'\n",
    "train_dir=[]\n",
    "\n",
    "classes = next(os.walk( path) )\n",
    "classes=classes[1]\n",
    "\n",
    "for num_classes in range(len(classes)):\n",
    "    train_dir.append(glob.glob(path+\"\\\\\"+classes[num_classes]))\n",
    "print(\"path of the classes : \")\n",
    "print(train_dir)\n",
    "\n",
    "for gesture in range(len(train_dir)):\n",
    "    for filename in glob.iglob(str(train_dir[gesture])[2:-2]+'\\\\\\\\*', recursive=True):\n",
    "        print(filename)\n",
    "        continue"
   ]
  },
  {
   "cell_type": "markdown",
   "metadata": {},
   "source": [
    "Test download all the samples"
   ]
  },
  {
   "cell_type": "code",
   "execution_count": 106,
   "metadata": {},
   "outputs": [
    {
     "name": "stderr",
     "output_type": "stream",
     "text": [
      " 50%|█████     | 1/2 [01:53<01:53, 113.96s/it]"
     ]
    },
    {
     "name": "stdout",
     "output_type": "stream",
     "text": [
      "Ignoring empty camera frame.\n",
      "(995, 42)\n"
     ]
    },
    {
     "name": "stderr",
     "output_type": "stream",
     "text": [
      "100%|██████████| 2/2 [03:56<00:00, 118.20s/it]"
     ]
    },
    {
     "name": "stdout",
     "output_type": "stream",
     "text": [
      "Ignoring empty camera frame.\n",
      "(945, 42)\n",
      "(2,)\n",
      "[[995], [945]]\n"
     ]
    },
    {
     "name": "stderr",
     "output_type": "stream",
     "text": [
      "\n"
     ]
    }
   ],
   "source": [
    "import numpy as np\n",
    "from tqdm import tqdm\n",
    "np.warnings.filterwarnings('ignore', category=np.VisibleDeprecationWarning)\n",
    "train_arrays_lengths=[]\n",
    "gestures_list=[]\n",
    "list_gesture=[]\n",
    "\n",
    "for gesture in tqdm(range(len(train_dir))):\n",
    "    for filename in glob.iglob(str(train_dir[gesture])[2:-2]+'\\\\\\\\*', recursive=True):\n",
    "        V=read_video(filename).to_numpy()\n",
    "        continue\n",
    "    V=V[:, 1:]\n",
    "    print(V.shape)\n",
    "    #V = np.expand_dims(V, axis = 0)\n",
    "    list_gesture.append(V)\n",
    "    train_arrays_lengths.append([V.shape[0]])\n",
    "    \n",
    "train_arrays= np.array(list_gesture, dtype=object)\n",
    "\n",
    "print(train_arrays.shape)\n",
    "print(train_arrays_lengths)"
   ]
  },
  {
   "cell_type": "code",
   "execution_count": 116,
   "metadata": {},
   "outputs": [],
   "source": [
    "T=copy.copy(train_arrays)"
   ]
  },
  {
   "cell_type": "code",
   "execution_count": 122,
   "metadata": {},
   "outputs": [
    {
     "name": "stdout",
     "output_type": "stream",
     "text": [
      "(1940, 42)\n"
     ]
    }
   ],
   "source": [
    "data = np.empty((0,42))\n",
    "for i in range(train_arrays.shape[0]): data=np.append(data,train_arrays[i], axis=0)\n",
    "print(data.shape)"
   ]
  },
  {
   "cell_type": "code",
   "execution_count": 99,
   "metadata": {},
   "outputs": [
    {
     "data": {
      "text/plain": [
       "1940"
      ]
     },
     "execution_count": 99,
     "metadata": {},
     "output_type": "execute_result"
    }
   ],
   "source": []
  },
  {
   "cell_type": "code",
   "execution_count": 105,
   "metadata": {},
   "outputs": [
    {
     "name": "stdout",
     "output_type": "stream",
     "text": [
      "(2,)\n",
      "(2,)\n"
     ]
    },
    {
     "ename": "ValueError",
     "evalue": "cannot reshape array of size 2 into shape (42)",
     "output_type": "error",
     "traceback": [
      "\u001b[1;31m---------------------------------------------------------------------------\u001b[0m",
      "\u001b[1;31mValueError\u001b[0m                                Traceback (most recent call last)",
      "\u001b[1;32mc:\\Users\\franc\\Documents\\GitHub\\AIMOVE_AGV_AI\\mediapipe_dtw.ipynb Cell 21'\u001b[0m in \u001b[0;36m<module>\u001b[1;34m\u001b[0m\n\u001b[0;32m      <a href='vscode-notebook-cell:/c%3A/Users/franc/Documents/GitHub/AIMOVE_AGV_AI/mediapipe_dtw.ipynb#ch0000068?line=1'>2</a>\u001b[0m \u001b[39mprint\u001b[39m(train_arrays\u001b[39m.\u001b[39mshape)\n\u001b[0;32m      <a href='vscode-notebook-cell:/c%3A/Users/franc/Documents/GitHub/AIMOVE_AGV_AI/mediapipe_dtw.ipynb#ch0000068?line=2'>3</a>\u001b[0m \u001b[39mprint\u001b[39m(T\u001b[39m.\u001b[39mshape)\n\u001b[1;32m----> <a href='vscode-notebook-cell:/c%3A/Users/franc/Documents/GitHub/AIMOVE_AGV_AI/mediapipe_dtw.ipynb#ch0000068?line=4'>5</a>\u001b[0m T\u001b[39m.\u001b[39;49mreshape(\u001b[39m-\u001b[39;49m\u001b[39m1\u001b[39;49m, \u001b[39m42\u001b[39;49m)\u001b[39m.\u001b[39mshape\n",
      "\u001b[1;31mValueError\u001b[0m: cannot reshape array of size 2 into shape (42)"
     ]
    }
   ],
   "source": [
    "T=train_arrays\n",
    "print(train_arrays.shape)\n",
    "print(T.shape)\n",
    "\n",
    "T.reshape(-1, 42).shape"
   ]
  },
  {
   "cell_type": "code",
   "execution_count": 39,
   "metadata": {},
   "outputs": [],
   "source": [
    "#To save as pinkle\n",
    "import pickle\n",
    "file_name = \"save_train_data.pkl\"\n",
    "train_arrays=np.array([])\n",
    "\n",
    "open_file = open(file_name, \"wb\")\n",
    "pickle.dump(train_arrays, open_file)\n",
    "open_file.close()"
   ]
  },
  {
   "cell_type": "code",
   "execution_count": 16,
   "metadata": {},
   "outputs": [],
   "source": [
    "#To read pinkle file\n",
    "import pickle\n",
    "file_name = \"save_train_data.pkl\"\n",
    "\n",
    "open_file = open(file_name, \"rb\")\n",
    "train_arrays = pickle.load(open_file)\n",
    "open_file.close()"
   ]
  },
  {
   "cell_type": "code",
   "execution_count": 15,
   "metadata": {},
   "outputs": [
    {
     "data": {
      "text/plain": [
       "0"
      ]
     },
     "execution_count": 15,
     "metadata": {},
     "output_type": "execute_result"
    }
   ],
   "source": [
    "train_arrays.shape[0]"
   ]
  },
  {
   "cell_type": "code",
   "execution_count": 21,
   "metadata": {},
   "outputs": [
    {
     "ename": "NameError",
     "evalue": "name 'train_arrays_lengths' is not defined",
     "output_type": "error",
     "traceback": [
      "\u001b[1;31m---------------------------------------------------------------------------\u001b[0m",
      "\u001b[1;31mNameError\u001b[0m                                 Traceback (most recent call last)",
      "\u001b[1;32mc:\\Users\\franc\\Documents\\GitHub\\AIMOVE_AGV_AI\\mediapipe_dtw.ipynb Cell 23'\u001b[0m in \u001b[0;36m<module>\u001b[1;34m\u001b[0m\n\u001b[0;32m      <a href='vscode-notebook-cell:/c%3A/Users/franc/Documents/GitHub/AIMOVE_AGV_AI/mediapipe_dtw.ipynb#ch0000022?line=8'>9</a>\u001b[0m     \u001b[39mprint\u001b[39m(tmp)\n\u001b[0;32m     <a href='vscode-notebook-cell:/c%3A/Users/franc/Documents/GitHub/AIMOVE_AGV_AI/mediapipe_dtw.ipynb#ch0000022?line=9'>10</a>\u001b[0m     train_arrays_lengths_test\u001b[39m.\u001b[39mappend(tmp)\n\u001b[1;32m---> <a href='vscode-notebook-cell:/c%3A/Users/franc/Documents/GitHub/AIMOVE_AGV_AI/mediapipe_dtw.ipynb#ch0000022?line=11'>12</a>\u001b[0m \u001b[39mprint\u001b[39m(train_arrays_lengths)\n",
      "\u001b[1;31mNameError\u001b[0m: name 'train_arrays_lengths' is not defined"
     ]
    }
   ],
   "source": [
    "train_arrays_lengths_test=[]\n",
    "\n",
    "for i in range(train_arrays.shape[0]):\n",
    "    tmp=[]\n",
    "    ok=0\n",
    "    for j in range(int(train_arrays[i].shape[0]/30)):\n",
    "        tmp.append(30)\n",
    "    tmp.append(train_arrays[i].shape[0] - (j+1)*30)\n",
    "    print(tmp)\n",
    "    train_arrays_lengths_test.append(tmp)\n",
    "\n",
    "print(train_arrays_lengths)"
   ]
  },
  {
   "cell_type": "markdown",
   "metadata": {},
   "source": [
    "Read video for testing"
   ]
  },
  {
   "cell_type": "code",
   "execution_count": 25,
   "metadata": {},
   "outputs": [
    {
     "name": "stdout",
     "output_type": "stream",
     "text": [
      "C:\\\\Users\\\\franc\\\\Desktop\\\\RT_Detection_AGV\\\\data\\\\test\\\\five\\test1.mp4\n",
      "Ignoring empty camera frame.\n",
      "C:\\\\Users\\\\franc\\\\Desktop\\\\RT_Detection_AGV\\\\data\\\\test\\\\pouce\\pouce_test.mp4\n",
      "Ignoring empty camera frame.\n",
      "(2, 35, 42)\n"
     ]
    }
   ],
   "source": [
    "path = r'C:\\Users\\franc\\Desktop\\RT_Detection_AGV\\data\\test'\n",
    "test_dir=[]\n",
    "\n",
    "classes = next(os.walk( path) )\n",
    "classes=classes[1]\n",
    "\n",
    "for num_classes in range(len(classes)):\n",
    "    test_dir.append(glob.glob(path+\"\\\\\"+classes[num_classes]))\n",
    "test_dir\n",
    "\n",
    "for gesture in range(len(test_dir)):\n",
    "    for filename in glob.iglob(str(test_dir[gesture])[2:-2]+'\\\\\\\\*', recursive=True):\n",
    "        print(filename)\n",
    "        V=read_video(filename).to_numpy()\n",
    "        continue\n",
    "    if 'test' in str(test_dir[gesture]): \n",
    "        V=V[:35, 1:]\n",
    "    V = np.expand_dims(V, axis = 0)\n",
    "    if(gesture==0): test_arrays=V\n",
    "    else: test_arrays = np.append(test_arrays, V, axis=0)\n",
    "\n",
    "print(test_arrays.shape)"
   ]
  },
  {
   "cell_type": "code",
   "execution_count": 118,
   "metadata": {},
   "outputs": [
    {
     "name": "stderr",
     "output_type": "stream",
     "text": [
      "100%|██████████| 2/2 [00:00<00:00,  3.40it/s]\n"
     ]
    }
   ],
   "source": [
    "\n",
    "from hmmlearn.hmm import GaussianHMM \n",
    "import numpy as np\n",
    "import glob\n",
    "import tqdm\n",
    "import os\n",
    "from sklearn.metrics import confusion_matrix\n",
    "\n",
    "states = 6\n",
    "cov_type = 'spherical'\n",
    "n_iter = 10000\n",
    "tol=0.000001\n",
    "algorithm ='viterbi' \n",
    "hmm_models=[]\n",
    "\n",
    "for hmm_model_num in tqdm.tqdm(range(len(train_arrays))):\n",
    "    model1=GaussianHMM(n_components=int(states), covariance_type=str(cov_type),n_iter = n_iter, tol =tol,algorithm=algorithm,\n",
    "                       verbose=False, params=\"stmc\").fit(train_arrays[hmm_model_num],train_arrays_lengths[hmm_model_num]) #7\n",
    "    hmm_models.append(model1)\n",
    "\n",
    "# for hmm_model_num in tqdm.tqdm(range(len(train_arrays))):\n",
    "#     model1=GaussianHMM(n_components=int(states), covariance_type=str(cov_type),algorithm=algorithm,\n",
    "#                        verbose=False, params=\"stmc\").fit(train_arrays[hmm_model_num][1:],train_arrays_lengths[hmm_model_num]) #7\n",
    "#     hmm_models.append(model1)"
   ]
  },
  {
   "cell_type": "code",
   "execution_count": 24,
   "metadata": {},
   "outputs": [],
   "source": [
    "for sample in range(len(test_dir)):\n",
    "    test_arrays[sample]\n",
    "    print(test_arrays[sample].shape)"
   ]
  },
  {
   "cell_type": "code",
   "execution_count": 119,
   "metadata": {},
   "outputs": [
    {
     "name": "stdout",
     "output_type": "stream",
     "text": [
      "[-8265.09105247698, -12579.550363024162]\n",
      "Sample :  \\five || Best model :  five\n",
      "[-10571.669182690724, -6713.907237563317]\n",
      "Sample :  pouce || Best model :  pouce\n"
     ]
    }
   ],
   "source": [
    "for sample in range(len(test_dir)):\n",
    "    resultats=[]\n",
    "    for hmm_model_num in range(len(hmm_models)):\n",
    "        res=hmm_models[hmm_model_num].score(test_arrays[sample][:30])\n",
    "        resultats.append(res)\n",
    "    print(resultats)\n",
    "    ide=resultats.index(max(resultats))\n",
    "    print(\"Sample : \", str(test_dir[sample])[-7:-2], \"|| Best model : \", classes[ide])"
   ]
  },
  {
   "cell_type": "markdown",
   "metadata": {},
   "source": [
    "Test GMM"
   ]
  },
  {
   "cell_type": "code",
   "execution_count": 68,
   "metadata": {},
   "outputs": [
    {
     "data": {
      "text/plain": [
       "70"
      ]
     },
     "execution_count": 68,
     "metadata": {},
     "output_type": "execute_result"
    }
   ],
   "source": [
    "T[0].shape[0]+T[1].shape[0]"
   ]
  },
  {
   "cell_type": "code",
   "execution_count": 65,
   "metadata": {},
   "outputs": [
    {
     "data": {
      "text/plain": [
       "(70, 42)"
      ]
     },
     "execution_count": 65,
     "metadata": {},
     "output_type": "execute_result"
    }
   ],
   "source": [
    "T=test_arrays\n",
    "\n",
    "T.reshape(70,42).shape"
   ]
  },
  {
   "cell_type": "code",
   "execution_count": 89,
   "metadata": {},
   "outputs": [
    {
     "name": "stdout",
     "output_type": "stream",
     "text": [
      "Le dossier est vide\n"
     ]
    }
   ],
   "source": [
    "import pickle\n",
    "\n",
    "def read_pickle(file_name = \"save_train_data.pkl\"): #To read pinkle file\n",
    "    # open_file = open(file_name, \"rb\")\n",
    "    # train_arrays = pickle.load(open_file)\n",
    "    train_arrays=np.load(file_name)\n",
    "    # open_file.close()\n",
    "    return train_arrays\n",
    "\n",
    "read_pickle().shape[0]\n",
    "\n",
    "if(read_pickle().shape[0] == 0):\n",
    "    print(\"Le dossier est vide\")\n",
    "\n"
   ]
  },
  {
   "cell_type": "code",
   "execution_count": 57,
   "metadata": {},
   "outputs": [
    {
     "data": {
      "text/plain": [
       "(2, 35, 42)"
      ]
     },
     "execution_count": 57,
     "metadata": {},
     "output_type": "execute_result"
    }
   ],
   "source": [
    "test_arrays.shape\n",
    "test_arrays2=np.array\n",
    "for i in range(test_arrays.shape[0]):\n"
   ]
  },
  {
   "cell_type": "code",
   "execution_count": 36,
   "metadata": {},
   "outputs": [
    {
     "name": "stdout",
     "output_type": "stream",
     "text": [
      "(60, 42)\n",
      "(10, 42)\n"
     ]
    }
   ],
   "source": [
    "test_arrays[0][:30,:].shape\n",
    "\n",
    "test_arrays[1][:30,:].shape\n",
    "\n",
    "new_train_arrays=test_arrays[0][:30,:]\n",
    "new_train_arrays=np.append(new_train_arrays,test_arrays[1][:30,:],axis=0)\n",
    "print(new_train_arrays.shape)\n",
    "\n",
    "new_test_arrays=test_arrays[0][30:,:]\n",
    "new_test_arrays=np.append(new_test_arrays,test_arrays[1][30:,:],axis=0)\n",
    "print(new_test_arrays.shape)\n",
    "\n",
    "\n"
   ]
  },
  {
   "cell_type": "code",
   "execution_count": 52,
   "metadata": {},
   "outputs": [],
   "source": [
    "from sklearn import mixture\n",
    "gmm = mixture.GaussianMixture(n_components=2, max_iter=1000, covariance_type='full').fit(new_train_arrays)\n",
    "\n"
   ]
  },
  {
   "cell_type": "code",
   "execution_count": 53,
   "metadata": {},
   "outputs": [
    {
     "name": "stdout",
     "output_type": "stream",
     "text": [
      "[0 0 0 0 0 0 1 1 1 1]\n"
     ]
    }
   ],
   "source": [
    "labels = gmm.predict(new_test_arrays)\n",
    "print(labels)"
   ]
  },
  {
   "cell_type": "code",
   "execution_count": 54,
   "metadata": {},
   "outputs": [
    {
     "name": "stdout",
     "output_type": "stream",
     "text": [
      "[[1. 0.]\n",
      " [1. 0.]\n",
      " [1. 0.]\n",
      " [1. 0.]\n",
      " [1. 0.]\n",
      " [1. 0.]\n",
      " [0. 1.]\n",
      " [0. 1.]\n",
      " [0. 1.]\n",
      " [0. 1.]]\n"
     ]
    }
   ],
   "source": [
    "\n",
    "\n",
    "probs = gmm.predict_proba(new_test_arrays)\n",
    "print(probs[:].round(3))\n",
    "\n"
   ]
  },
  {
   "cell_type": "code",
   "execution_count": 55,
   "metadata": {},
   "outputs": [
    {
     "ename": "ValueError",
     "evalue": "'c' argument has 10 elements, which is inconsistent with 'x' and 'y' with size 60.",
     "output_type": "error",
     "traceback": [
      "\u001b[1;31m---------------------------------------------------------------------------\u001b[0m",
      "\u001b[1;31mValueError\u001b[0m                                Traceback (most recent call last)",
      "File \u001b[1;32m~\\AppData\\Local\\Programs\\Python\\Python310\\lib\\site-packages\\matplotlib\\axes\\_axes.py:4221\u001b[0m, in \u001b[0;36mAxes._parse_scatter_color_args\u001b[1;34m(c, edgecolors, kwargs, xsize, get_next_color_func)\u001b[0m\n\u001b[0;32m   <a href='file:///~/AppData/Local/Programs/Python/Python310/lib/site-packages/matplotlib/axes/_axes.py?line=4219'>4220</a>\u001b[0m \u001b[39mtry\u001b[39;00m:  \u001b[39m# Is 'c' acceptable as PathCollection facecolors?\u001b[39;00m\n\u001b[1;32m-> <a href='file:///~/AppData/Local/Programs/Python/Python310/lib/site-packages/matplotlib/axes/_axes.py?line=4220'>4221</a>\u001b[0m     colors \u001b[39m=\u001b[39m mcolors\u001b[39m.\u001b[39;49mto_rgba_array(c)\n\u001b[0;32m   <a href='file:///~/AppData/Local/Programs/Python/Python310/lib/site-packages/matplotlib/axes/_axes.py?line=4221'>4222</a>\u001b[0m \u001b[39mexcept\u001b[39;00m (\u001b[39mTypeError\u001b[39;00m, \u001b[39mValueError\u001b[39;00m) \u001b[39mas\u001b[39;00m err:\n",
      "File \u001b[1;32m~\\AppData\\Local\\Programs\\Python\\Python310\\lib\\site-packages\\matplotlib\\colors.py:377\u001b[0m, in \u001b[0;36mto_rgba_array\u001b[1;34m(c, alpha)\u001b[0m\n\u001b[0;32m    <a href='file:///~/AppData/Local/Programs/Python/Python310/lib/site-packages/matplotlib/colors.py?line=375'>376</a>\u001b[0m \u001b[39melse\u001b[39;00m:\n\u001b[1;32m--> <a href='file:///~/AppData/Local/Programs/Python/Python310/lib/site-packages/matplotlib/colors.py?line=376'>377</a>\u001b[0m     rgba \u001b[39m=\u001b[39m np\u001b[39m.\u001b[39marray([to_rgba(cc) \u001b[39mfor\u001b[39;00m cc \u001b[39min\u001b[39;00m c])\n\u001b[0;32m    <a href='file:///~/AppData/Local/Programs/Python/Python310/lib/site-packages/matplotlib/colors.py?line=378'>379</a>\u001b[0m \u001b[39mif\u001b[39;00m alpha \u001b[39mis\u001b[39;00m \u001b[39mnot\u001b[39;00m \u001b[39mNone\u001b[39;00m:\n",
      "File \u001b[1;32m~\\AppData\\Local\\Programs\\Python\\Python310\\lib\\site-packages\\matplotlib\\colors.py:377\u001b[0m, in \u001b[0;36m<listcomp>\u001b[1;34m(.0)\u001b[0m\n\u001b[0;32m    <a href='file:///~/AppData/Local/Programs/Python/Python310/lib/site-packages/matplotlib/colors.py?line=375'>376</a>\u001b[0m \u001b[39melse\u001b[39;00m:\n\u001b[1;32m--> <a href='file:///~/AppData/Local/Programs/Python/Python310/lib/site-packages/matplotlib/colors.py?line=376'>377</a>\u001b[0m     rgba \u001b[39m=\u001b[39m np\u001b[39m.\u001b[39marray([to_rgba(cc) \u001b[39mfor\u001b[39;00m cc \u001b[39min\u001b[39;00m c])\n\u001b[0;32m    <a href='file:///~/AppData/Local/Programs/Python/Python310/lib/site-packages/matplotlib/colors.py?line=378'>379</a>\u001b[0m \u001b[39mif\u001b[39;00m alpha \u001b[39mis\u001b[39;00m \u001b[39mnot\u001b[39;00m \u001b[39mNone\u001b[39;00m:\n",
      "File \u001b[1;32m~\\AppData\\Local\\Programs\\Python\\Python310\\lib\\site-packages\\matplotlib\\colors.py:187\u001b[0m, in \u001b[0;36mto_rgba\u001b[1;34m(c, alpha)\u001b[0m\n\u001b[0;32m    <a href='file:///~/AppData/Local/Programs/Python/Python310/lib/site-packages/matplotlib/colors.py?line=185'>186</a>\u001b[0m \u001b[39mif\u001b[39;00m rgba \u001b[39mis\u001b[39;00m \u001b[39mNone\u001b[39;00m:  \u001b[39m# Suppress exception chaining of cache lookup failure.\u001b[39;00m\n\u001b[1;32m--> <a href='file:///~/AppData/Local/Programs/Python/Python310/lib/site-packages/matplotlib/colors.py?line=186'>187</a>\u001b[0m     rgba \u001b[39m=\u001b[39m _to_rgba_no_colorcycle(c, alpha)\n\u001b[0;32m    <a href='file:///~/AppData/Local/Programs/Python/Python310/lib/site-packages/matplotlib/colors.py?line=187'>188</a>\u001b[0m     \u001b[39mtry\u001b[39;00m:\n",
      "File \u001b[1;32m~\\AppData\\Local\\Programs\\Python\\Python310\\lib\\site-packages\\matplotlib\\colors.py:269\u001b[0m, in \u001b[0;36m_to_rgba_no_colorcycle\u001b[1;34m(c, alpha)\u001b[0m\n\u001b[0;32m    <a href='file:///~/AppData/Local/Programs/Python/Python310/lib/site-packages/matplotlib/colors.py?line=267'>268</a>\u001b[0m \u001b[39mif\u001b[39;00m \u001b[39mnot\u001b[39;00m np\u001b[39m.\u001b[39miterable(c):\n\u001b[1;32m--> <a href='file:///~/AppData/Local/Programs/Python/Python310/lib/site-packages/matplotlib/colors.py?line=268'>269</a>\u001b[0m     \u001b[39mraise\u001b[39;00m \u001b[39mValueError\u001b[39;00m(\u001b[39mf\u001b[39m\u001b[39m\"\u001b[39m\u001b[39mInvalid RGBA argument: \u001b[39m\u001b[39m{\u001b[39;00morig_c\u001b[39m!r}\u001b[39;00m\u001b[39m\"\u001b[39m)\n\u001b[0;32m    <a href='file:///~/AppData/Local/Programs/Python/Python310/lib/site-packages/matplotlib/colors.py?line=269'>270</a>\u001b[0m \u001b[39mif\u001b[39;00m \u001b[39mlen\u001b[39m(c) \u001b[39mnot\u001b[39;00m \u001b[39min\u001b[39;00m [\u001b[39m3\u001b[39m, \u001b[39m4\u001b[39m]:\n",
      "\u001b[1;31mValueError\u001b[0m: Invalid RGBA argument: 0.0",
      "\nThe above exception was the direct cause of the following exception:\n",
      "\u001b[1;31mValueError\u001b[0m                                Traceback (most recent call last)",
      "\u001b[1;32mc:\\Users\\franc\\Documents\\GitHub\\AIMOVE_AGV_AI\\mediapipe_dtw.ipynb Cell 34'\u001b[0m in \u001b[0;36m<module>\u001b[1;34m\u001b[0m\n\u001b[0;32m      <a href='vscode-notebook-cell:/c%3A/Users/franc/Documents/GitHub/AIMOVE_AGV_AI/mediapipe_dtw.ipynb#ch0000030?line=0'>1</a>\u001b[0m \u001b[39mimport\u001b[39;00m \u001b[39mmatplotlib\u001b[39;00m\u001b[39m.\u001b[39;00m\u001b[39mpyplot\u001b[39;00m \u001b[39mas\u001b[39;00m \u001b[39mplt\u001b[39;00m\n\u001b[1;32m----> <a href='vscode-notebook-cell:/c%3A/Users/franc/Documents/GitHub/AIMOVE_AGV_AI/mediapipe_dtw.ipynb#ch0000030?line=1'>2</a>\u001b[0m plt\u001b[39m.\u001b[39;49mscatter(new_train_arrays[:, \u001b[39m0\u001b[39;49m], new_train_arrays[:, \u001b[39m1\u001b[39;49m], c\u001b[39m=\u001b[39;49mlabels, cmap\u001b[39m=\u001b[39;49m\u001b[39m'\u001b[39;49m\u001b[39mviridis\u001b[39;49m\u001b[39m'\u001b[39;49m)\n",
      "File \u001b[1;32m~\\AppData\\Local\\Programs\\Python\\Python310\\lib\\site-packages\\matplotlib\\pyplot.py:2807\u001b[0m, in \u001b[0;36mscatter\u001b[1;34m(x, y, s, c, marker, cmap, norm, vmin, vmax, alpha, linewidths, edgecolors, plotnonfinite, data, **kwargs)\u001b[0m\n\u001b[0;32m   <a href='file:///~/AppData/Local/Programs/Python/Python310/lib/site-packages/matplotlib/pyplot.py?line=2801'>2802</a>\u001b[0m \u001b[39m@_copy_docstring_and_deprecators\u001b[39m(Axes\u001b[39m.\u001b[39mscatter)\n\u001b[0;32m   <a href='file:///~/AppData/Local/Programs/Python/Python310/lib/site-packages/matplotlib/pyplot.py?line=2802'>2803</a>\u001b[0m \u001b[39mdef\u001b[39;00m \u001b[39mscatter\u001b[39m(\n\u001b[0;32m   <a href='file:///~/AppData/Local/Programs/Python/Python310/lib/site-packages/matplotlib/pyplot.py?line=2803'>2804</a>\u001b[0m         x, y, s\u001b[39m=\u001b[39m\u001b[39mNone\u001b[39;00m, c\u001b[39m=\u001b[39m\u001b[39mNone\u001b[39;00m, marker\u001b[39m=\u001b[39m\u001b[39mNone\u001b[39;00m, cmap\u001b[39m=\u001b[39m\u001b[39mNone\u001b[39;00m, norm\u001b[39m=\u001b[39m\u001b[39mNone\u001b[39;00m,\n\u001b[0;32m   <a href='file:///~/AppData/Local/Programs/Python/Python310/lib/site-packages/matplotlib/pyplot.py?line=2804'>2805</a>\u001b[0m         vmin\u001b[39m=\u001b[39m\u001b[39mNone\u001b[39;00m, vmax\u001b[39m=\u001b[39m\u001b[39mNone\u001b[39;00m, alpha\u001b[39m=\u001b[39m\u001b[39mNone\u001b[39;00m, linewidths\u001b[39m=\u001b[39m\u001b[39mNone\u001b[39;00m, \u001b[39m*\u001b[39m,\n\u001b[0;32m   <a href='file:///~/AppData/Local/Programs/Python/Python310/lib/site-packages/matplotlib/pyplot.py?line=2805'>2806</a>\u001b[0m         edgecolors\u001b[39m=\u001b[39m\u001b[39mNone\u001b[39;00m, plotnonfinite\u001b[39m=\u001b[39m\u001b[39mFalse\u001b[39;00m, data\u001b[39m=\u001b[39m\u001b[39mNone\u001b[39;00m, \u001b[39m*\u001b[39m\u001b[39m*\u001b[39mkwargs):\n\u001b[1;32m-> <a href='file:///~/AppData/Local/Programs/Python/Python310/lib/site-packages/matplotlib/pyplot.py?line=2806'>2807</a>\u001b[0m     __ret \u001b[39m=\u001b[39m gca()\u001b[39m.\u001b[39mscatter(\n\u001b[0;32m   <a href='file:///~/AppData/Local/Programs/Python/Python310/lib/site-packages/matplotlib/pyplot.py?line=2807'>2808</a>\u001b[0m         x, y, s\u001b[39m=\u001b[39ms, c\u001b[39m=\u001b[39mc, marker\u001b[39m=\u001b[39mmarker, cmap\u001b[39m=\u001b[39mcmap, norm\u001b[39m=\u001b[39mnorm,\n\u001b[0;32m   <a href='file:///~/AppData/Local/Programs/Python/Python310/lib/site-packages/matplotlib/pyplot.py?line=2808'>2809</a>\u001b[0m         vmin\u001b[39m=\u001b[39mvmin, vmax\u001b[39m=\u001b[39mvmax, alpha\u001b[39m=\u001b[39malpha, linewidths\u001b[39m=\u001b[39mlinewidths,\n\u001b[0;32m   <a href='file:///~/AppData/Local/Programs/Python/Python310/lib/site-packages/matplotlib/pyplot.py?line=2809'>2810</a>\u001b[0m         edgecolors\u001b[39m=\u001b[39medgecolors, plotnonfinite\u001b[39m=\u001b[39mplotnonfinite,\n\u001b[0;32m   <a href='file:///~/AppData/Local/Programs/Python/Python310/lib/site-packages/matplotlib/pyplot.py?line=2810'>2811</a>\u001b[0m         \u001b[39m*\u001b[39m\u001b[39m*\u001b[39m({\u001b[39m\"\u001b[39m\u001b[39mdata\u001b[39m\u001b[39m\"\u001b[39m: data} \u001b[39mif\u001b[39;00m data \u001b[39mis\u001b[39;00m \u001b[39mnot\u001b[39;00m \u001b[39mNone\u001b[39;00m \u001b[39melse\u001b[39;00m {}), \u001b[39m*\u001b[39m\u001b[39m*\u001b[39mkwargs)\n\u001b[0;32m   <a href='file:///~/AppData/Local/Programs/Python/Python310/lib/site-packages/matplotlib/pyplot.py?line=2811'>2812</a>\u001b[0m     sci(__ret)\n\u001b[0;32m   <a href='file:///~/AppData/Local/Programs/Python/Python310/lib/site-packages/matplotlib/pyplot.py?line=2812'>2813</a>\u001b[0m     \u001b[39mreturn\u001b[39;00m __ret\n",
      "File \u001b[1;32m~\\AppData\\Local\\Programs\\Python\\Python310\\lib\\site-packages\\matplotlib\\__init__.py:1412\u001b[0m, in \u001b[0;36m_preprocess_data.<locals>.inner\u001b[1;34m(ax, data, *args, **kwargs)\u001b[0m\n\u001b[0;32m   <a href='file:///~/AppData/Local/Programs/Python/Python310/lib/site-packages/matplotlib/__init__.py?line=1408'>1409</a>\u001b[0m \u001b[39m@functools\u001b[39m\u001b[39m.\u001b[39mwraps(func)\n\u001b[0;32m   <a href='file:///~/AppData/Local/Programs/Python/Python310/lib/site-packages/matplotlib/__init__.py?line=1409'>1410</a>\u001b[0m \u001b[39mdef\u001b[39;00m \u001b[39minner\u001b[39m(ax, \u001b[39m*\u001b[39margs, data\u001b[39m=\u001b[39m\u001b[39mNone\u001b[39;00m, \u001b[39m*\u001b[39m\u001b[39m*\u001b[39mkwargs):\n\u001b[0;32m   <a href='file:///~/AppData/Local/Programs/Python/Python310/lib/site-packages/matplotlib/__init__.py?line=1410'>1411</a>\u001b[0m     \u001b[39mif\u001b[39;00m data \u001b[39mis\u001b[39;00m \u001b[39mNone\u001b[39;00m:\n\u001b[1;32m-> <a href='file:///~/AppData/Local/Programs/Python/Python310/lib/site-packages/matplotlib/__init__.py?line=1411'>1412</a>\u001b[0m         \u001b[39mreturn\u001b[39;00m func(ax, \u001b[39m*\u001b[39m\u001b[39mmap\u001b[39m(sanitize_sequence, args), \u001b[39m*\u001b[39m\u001b[39m*\u001b[39mkwargs)\n\u001b[0;32m   <a href='file:///~/AppData/Local/Programs/Python/Python310/lib/site-packages/matplotlib/__init__.py?line=1413'>1414</a>\u001b[0m     bound \u001b[39m=\u001b[39m new_sig\u001b[39m.\u001b[39mbind(ax, \u001b[39m*\u001b[39margs, \u001b[39m*\u001b[39m\u001b[39m*\u001b[39mkwargs)\n\u001b[0;32m   <a href='file:///~/AppData/Local/Programs/Python/Python310/lib/site-packages/matplotlib/__init__.py?line=1414'>1415</a>\u001b[0m     auto_label \u001b[39m=\u001b[39m (bound\u001b[39m.\u001b[39marguments\u001b[39m.\u001b[39mget(label_namer)\n\u001b[0;32m   <a href='file:///~/AppData/Local/Programs/Python/Python310/lib/site-packages/matplotlib/__init__.py?line=1415'>1416</a>\u001b[0m                   \u001b[39mor\u001b[39;00m bound\u001b[39m.\u001b[39mkwargs\u001b[39m.\u001b[39mget(label_namer))\n",
      "File \u001b[1;32m~\\AppData\\Local\\Programs\\Python\\Python310\\lib\\site-packages\\matplotlib\\axes\\_axes.py:4387\u001b[0m, in \u001b[0;36mAxes.scatter\u001b[1;34m(self, x, y, s, c, marker, cmap, norm, vmin, vmax, alpha, linewidths, edgecolors, plotnonfinite, **kwargs)\u001b[0m\n\u001b[0;32m   <a href='file:///~/AppData/Local/Programs/Python/Python310/lib/site-packages/matplotlib/axes/_axes.py?line=4383'>4384</a>\u001b[0m \u001b[39mif\u001b[39;00m edgecolors \u001b[39mis\u001b[39;00m \u001b[39mNone\u001b[39;00m:\n\u001b[0;32m   <a href='file:///~/AppData/Local/Programs/Python/Python310/lib/site-packages/matplotlib/axes/_axes.py?line=4384'>4385</a>\u001b[0m     orig_edgecolor \u001b[39m=\u001b[39m kwargs\u001b[39m.\u001b[39mget(\u001b[39m'\u001b[39m\u001b[39medgecolor\u001b[39m\u001b[39m'\u001b[39m, \u001b[39mNone\u001b[39;00m)\n\u001b[0;32m   <a href='file:///~/AppData/Local/Programs/Python/Python310/lib/site-packages/matplotlib/axes/_axes.py?line=4385'>4386</a>\u001b[0m c, colors, edgecolors \u001b[39m=\u001b[39m \\\n\u001b[1;32m-> <a href='file:///~/AppData/Local/Programs/Python/Python310/lib/site-packages/matplotlib/axes/_axes.py?line=4386'>4387</a>\u001b[0m     \u001b[39mself\u001b[39;49m\u001b[39m.\u001b[39;49m_parse_scatter_color_args(\n\u001b[0;32m   <a href='file:///~/AppData/Local/Programs/Python/Python310/lib/site-packages/matplotlib/axes/_axes.py?line=4387'>4388</a>\u001b[0m         c, edgecolors, kwargs, x\u001b[39m.\u001b[39;49msize,\n\u001b[0;32m   <a href='file:///~/AppData/Local/Programs/Python/Python310/lib/site-packages/matplotlib/axes/_axes.py?line=4388'>4389</a>\u001b[0m         get_next_color_func\u001b[39m=\u001b[39;49m\u001b[39mself\u001b[39;49m\u001b[39m.\u001b[39;49m_get_patches_for_fill\u001b[39m.\u001b[39;49mget_next_color)\n\u001b[0;32m   <a href='file:///~/AppData/Local/Programs/Python/Python310/lib/site-packages/matplotlib/axes/_axes.py?line=4390'>4391</a>\u001b[0m \u001b[39mif\u001b[39;00m plotnonfinite \u001b[39mand\u001b[39;00m colors \u001b[39mis\u001b[39;00m \u001b[39mNone\u001b[39;00m:\n\u001b[0;32m   <a href='file:///~/AppData/Local/Programs/Python/Python310/lib/site-packages/matplotlib/axes/_axes.py?line=4391'>4392</a>\u001b[0m     c \u001b[39m=\u001b[39m np\u001b[39m.\u001b[39mma\u001b[39m.\u001b[39mmasked_invalid(c)\n",
      "File \u001b[1;32m~\\AppData\\Local\\Programs\\Python\\Python310\\lib\\site-packages\\matplotlib\\axes\\_axes.py:4227\u001b[0m, in \u001b[0;36mAxes._parse_scatter_color_args\u001b[1;34m(c, edgecolors, kwargs, xsize, get_next_color_func)\u001b[0m\n\u001b[0;32m   <a href='file:///~/AppData/Local/Programs/Python/Python310/lib/site-packages/matplotlib/axes/_axes.py?line=4224'>4225</a>\u001b[0m \u001b[39melse\u001b[39;00m:\n\u001b[0;32m   <a href='file:///~/AppData/Local/Programs/Python/Python310/lib/site-packages/matplotlib/axes/_axes.py?line=4225'>4226</a>\u001b[0m     \u001b[39mif\u001b[39;00m \u001b[39mnot\u001b[39;00m valid_shape:\n\u001b[1;32m-> <a href='file:///~/AppData/Local/Programs/Python/Python310/lib/site-packages/matplotlib/axes/_axes.py?line=4226'>4227</a>\u001b[0m         \u001b[39mraise\u001b[39;00m invalid_shape_exception(c\u001b[39m.\u001b[39msize, xsize) \u001b[39mfrom\u001b[39;00m \u001b[39merr\u001b[39;00m\n\u001b[0;32m   <a href='file:///~/AppData/Local/Programs/Python/Python310/lib/site-packages/matplotlib/axes/_axes.py?line=4227'>4228</a>\u001b[0m     \u001b[39m# Both the mapping *and* the RGBA conversion failed: pretty\u001b[39;00m\n\u001b[0;32m   <a href='file:///~/AppData/Local/Programs/Python/Python310/lib/site-packages/matplotlib/axes/_axes.py?line=4228'>4229</a>\u001b[0m     \u001b[39m# severe failure => one may appreciate a verbose feedback.\u001b[39;00m\n\u001b[0;32m   <a href='file:///~/AppData/Local/Programs/Python/Python310/lib/site-packages/matplotlib/axes/_axes.py?line=4229'>4230</a>\u001b[0m     \u001b[39mraise\u001b[39;00m \u001b[39mValueError\u001b[39;00m(\n\u001b[0;32m   <a href='file:///~/AppData/Local/Programs/Python/Python310/lib/site-packages/matplotlib/axes/_axes.py?line=4230'>4231</a>\u001b[0m         \u001b[39mf\u001b[39m\u001b[39m\"\u001b[39m\u001b[39m'\u001b[39m\u001b[39mc\u001b[39m\u001b[39m'\u001b[39m\u001b[39m argument must be a color, a sequence of colors, \u001b[39m\u001b[39m\"\u001b[39m\n\u001b[0;32m   <a href='file:///~/AppData/Local/Programs/Python/Python310/lib/site-packages/matplotlib/axes/_axes.py?line=4231'>4232</a>\u001b[0m         \u001b[39mf\u001b[39m\u001b[39m\"\u001b[39m\u001b[39mor a sequence of numbers, not \u001b[39m\u001b[39m{\u001b[39;00mc\u001b[39m}\u001b[39;00m\u001b[39m\"\u001b[39m) \u001b[39mfrom\u001b[39;00m \u001b[39merr\u001b[39;00m\n",
      "\u001b[1;31mValueError\u001b[0m: 'c' argument has 10 elements, which is inconsistent with 'x' and 'y' with size 60."
     ]
    },
    {
     "data": {
      "image/png": "[encoded data removed]",
      "text/plain": [
       "<Figure size 432x288 with 1 Axes>"
      ]
     },
     "metadata": {
      "needs_background": "light"
     },
     "output_type": "display_data"
    }
   ],
   "source": [
    "import matplotlib.pyplot as plt\n",
    "plt.scatter(new_train_arrays[:, 0], new_train_arrays[:, 1], c=labels, cmap='viridis')"
   ]
  },
  {
   "cell_type": "code",
   "execution_count": 91,
   "metadata": {},
   "outputs": [
    {
     "name": "stdout",
     "output_type": "stream",
     "text": [
      "(2,)\n"
     ]
    },
    {
     "ename": "ValueError",
     "evalue": "cannot reshape array of size 2 into shape (1940,42)",
     "output_type": "error",
     "traceback": [
      "\u001b[1;31m---------------------------------------------------------------------------\u001b[0m",
      "\u001b[1;31mValueError\u001b[0m                                Traceback (most recent call last)",
      "\u001b[1;32mc:\\Users\\franc\\Documents\\GitHub\\AIMOVE_AGV_AI\\mediapipe_dtw.ipynb Cell 32'\u001b[0m in \u001b[0;36m<module>\u001b[1;34m\u001b[0m\n\u001b[0;32m      <a href='vscode-notebook-cell:/c%3A/Users/franc/Documents/GitHub/AIMOVE_AGV_AI/mediapipe_dtw.ipynb#ch0000072?line=0'>1</a>\u001b[0m T\u001b[39m=\u001b[39mtrain_arrays\n\u001b[0;32m      <a href='vscode-notebook-cell:/c%3A/Users/franc/Documents/GitHub/AIMOVE_AGV_AI/mediapipe_dtw.ipynb#ch0000072?line=1'>2</a>\u001b[0m \u001b[39mprint\u001b[39m(T\u001b[39m.\u001b[39mshape)\n\u001b[1;32m----> <a href='vscode-notebook-cell:/c%3A/Users/franc/Documents/GitHub/AIMOVE_AGV_AI/mediapipe_dtw.ipynb#ch0000072?line=2'>3</a>\u001b[0m T\u001b[39m.\u001b[39;49mreshape(train_arrays[\u001b[39m0\u001b[39;49m]\u001b[39m.\u001b[39;49mshape[\u001b[39m0\u001b[39;49m]\u001b[39m+\u001b[39;49mtrain_arrays[\u001b[39m1\u001b[39;49m]\u001b[39m.\u001b[39;49mshape[\u001b[39m0\u001b[39;49m],\u001b[39m42\u001b[39;49m)\n",
      "\u001b[1;31mValueError\u001b[0m: cannot reshape array of size 2 into shape (1940,42)"
     ]
    }
   ],
   "source": [
    "T=train_arrays\n",
    "print(T.shape)\n",
    "T.reshape(train_arrays[0].shape[0]+train_arrays[1].shape[0],42)"
   ]
  },
  {
   "cell_type": "code",
   "execution_count": 84,
   "metadata": {},
   "outputs": [
    {
     "ename": "ValueError",
     "evalue": "Found array with dim 3. Estimator expected <= 2.",
     "output_type": "error",
     "traceback": [
      "\u001b[1;31m---------------------------------------------------------------------------\u001b[0m",
      "\u001b[1;31mValueError\u001b[0m                                Traceback (most recent call last)",
      "\u001b[1;32mc:\\Users\\franc\\Documents\\GitHub\\AIMOVE_AGV_AI\\mediapipe_dtw.ipynb Cell 32'\u001b[0m in \u001b[0;36m<module>\u001b[1;34m\u001b[0m\n\u001b[0;32m      <a href='vscode-notebook-cell:/c%3A/Users/franc/Documents/GitHub/AIMOVE_AGV_AI/mediapipe_dtw.ipynb#ch0000030?line=0'>1</a>\u001b[0m \u001b[39mfrom\u001b[39;00m \u001b[39msklearn\u001b[39;00m \u001b[39mimport\u001b[39;00m mixture\n\u001b[1;32m----> <a href='vscode-notebook-cell:/c%3A/Users/franc/Documents/GitHub/AIMOVE_AGV_AI/mediapipe_dtw.ipynb#ch0000030?line=1'>2</a>\u001b[0m gmm \u001b[39m=\u001b[39m mixture\u001b[39m.\u001b[39;49mGaussianMixture(n_components\u001b[39m=\u001b[39;49m\u001b[39m2\u001b[39;49m)\u001b[39m.\u001b[39;49mfit(test_arrays)\n",
      "File \u001b[1;32m~\\AppData\\Local\\Programs\\Python\\Python310\\lib\\site-packages\\sklearn\\mixture\\_base.py:198\u001b[0m, in \u001b[0;36mBaseMixture.fit\u001b[1;34m(self, X, y)\u001b[0m\n\u001b[0;32m    <a href='file:///~/AppData/Local/Programs/Python/Python310/lib/site-packages/sklearn/mixture/_base.py?line=171'>172</a>\u001b[0m \u001b[39mdef\u001b[39;00m \u001b[39mfit\u001b[39m(\u001b[39mself\u001b[39m, X, y\u001b[39m=\u001b[39m\u001b[39mNone\u001b[39;00m):\n\u001b[0;32m    <a href='file:///~/AppData/Local/Programs/Python/Python310/lib/site-packages/sklearn/mixture/_base.py?line=172'>173</a>\u001b[0m     \u001b[39m\"\"\"Estimate model parameters with the EM algorithm.\u001b[39;00m\n\u001b[0;32m    <a href='file:///~/AppData/Local/Programs/Python/Python310/lib/site-packages/sklearn/mixture/_base.py?line=173'>174</a>\u001b[0m \n\u001b[0;32m    <a href='file:///~/AppData/Local/Programs/Python/Python310/lib/site-packages/sklearn/mixture/_base.py?line=174'>175</a>\u001b[0m \u001b[39m    The method fits the model ``n_init`` times and sets the parameters with\u001b[39;00m\n\u001b[1;32m   (...)\u001b[0m\n\u001b[0;32m    <a href='file:///~/AppData/Local/Programs/Python/Python310/lib/site-packages/sklearn/mixture/_base.py?line=195'>196</a>\u001b[0m \u001b[39m        The fitted mixture.\u001b[39;00m\n\u001b[0;32m    <a href='file:///~/AppData/Local/Programs/Python/Python310/lib/site-packages/sklearn/mixture/_base.py?line=196'>197</a>\u001b[0m \u001b[39m    \"\"\"\u001b[39;00m\n\u001b[1;32m--> <a href='file:///~/AppData/Local/Programs/Python/Python310/lib/site-packages/sklearn/mixture/_base.py?line=197'>198</a>\u001b[0m     \u001b[39mself\u001b[39;49m\u001b[39m.\u001b[39;49mfit_predict(X, y)\n\u001b[0;32m    <a href='file:///~/AppData/Local/Programs/Python/Python310/lib/site-packages/sklearn/mixture/_base.py?line=198'>199</a>\u001b[0m     \u001b[39mreturn\u001b[39;00m \u001b[39mself\u001b[39m\n",
      "File \u001b[1;32m~\\AppData\\Local\\Programs\\Python\\Python310\\lib\\site-packages\\sklearn\\mixture\\_base.py:228\u001b[0m, in \u001b[0;36mBaseMixture.fit_predict\u001b[1;34m(self, X, y)\u001b[0m\n\u001b[0;32m    <a href='file:///~/AppData/Local/Programs/Python/Python310/lib/site-packages/sklearn/mixture/_base.py?line=200'>201</a>\u001b[0m \u001b[39mdef\u001b[39;00m \u001b[39mfit_predict\u001b[39m(\u001b[39mself\u001b[39m, X, y\u001b[39m=\u001b[39m\u001b[39mNone\u001b[39;00m):\n\u001b[0;32m    <a href='file:///~/AppData/Local/Programs/Python/Python310/lib/site-packages/sklearn/mixture/_base.py?line=201'>202</a>\u001b[0m     \u001b[39m\"\"\"Estimate model parameters using X and predict the labels for X.\u001b[39;00m\n\u001b[0;32m    <a href='file:///~/AppData/Local/Programs/Python/Python310/lib/site-packages/sklearn/mixture/_base.py?line=202'>203</a>\u001b[0m \n\u001b[0;32m    <a href='file:///~/AppData/Local/Programs/Python/Python310/lib/site-packages/sklearn/mixture/_base.py?line=203'>204</a>\u001b[0m \u001b[39m    The method fits the model n_init times and sets the parameters with\u001b[39;00m\n\u001b[1;32m   (...)\u001b[0m\n\u001b[0;32m    <a href='file:///~/AppData/Local/Programs/Python/Python310/lib/site-packages/sklearn/mixture/_base.py?line=225'>226</a>\u001b[0m \u001b[39m        Component labels.\u001b[39;00m\n\u001b[0;32m    <a href='file:///~/AppData/Local/Programs/Python/Python310/lib/site-packages/sklearn/mixture/_base.py?line=226'>227</a>\u001b[0m \u001b[39m    \"\"\"\u001b[39;00m\n\u001b[1;32m--> <a href='file:///~/AppData/Local/Programs/Python/Python310/lib/site-packages/sklearn/mixture/_base.py?line=227'>228</a>\u001b[0m     X \u001b[39m=\u001b[39m \u001b[39mself\u001b[39;49m\u001b[39m.\u001b[39;49m_validate_data(X, dtype\u001b[39m=\u001b[39;49m[np\u001b[39m.\u001b[39;49mfloat64, np\u001b[39m.\u001b[39;49mfloat32], ensure_min_samples\u001b[39m=\u001b[39;49m\u001b[39m2\u001b[39;49m)\n\u001b[0;32m    <a href='file:///~/AppData/Local/Programs/Python/Python310/lib/site-packages/sklearn/mixture/_base.py?line=228'>229</a>\u001b[0m     \u001b[39mif\u001b[39;00m X\u001b[39m.\u001b[39mshape[\u001b[39m0\u001b[39m] \u001b[39m<\u001b[39m \u001b[39mself\u001b[39m\u001b[39m.\u001b[39mn_components:\n\u001b[0;32m    <a href='file:///~/AppData/Local/Programs/Python/Python310/lib/site-packages/sklearn/mixture/_base.py?line=229'>230</a>\u001b[0m         \u001b[39mraise\u001b[39;00m \u001b[39mValueError\u001b[39;00m(\n\u001b[0;32m    <a href='file:///~/AppData/Local/Programs/Python/Python310/lib/site-packages/sklearn/mixture/_base.py?line=230'>231</a>\u001b[0m             \u001b[39m\"\u001b[39m\u001b[39mExpected n_samples >= n_components \u001b[39m\u001b[39m\"\u001b[39m\n\u001b[0;32m    <a href='file:///~/AppData/Local/Programs/Python/Python310/lib/site-packages/sklearn/mixture/_base.py?line=231'>232</a>\u001b[0m             \u001b[39mf\u001b[39m\u001b[39m\"\u001b[39m\u001b[39mbut got n_components = \u001b[39m\u001b[39m{\u001b[39;00m\u001b[39mself\u001b[39m\u001b[39m.\u001b[39mn_components\u001b[39m}\u001b[39;00m\u001b[39m, \u001b[39m\u001b[39m\"\u001b[39m\n\u001b[0;32m    <a href='file:///~/AppData/Local/Programs/Python/Python310/lib/site-packages/sklearn/mixture/_base.py?line=232'>233</a>\u001b[0m             \u001b[39mf\u001b[39m\u001b[39m\"\u001b[39m\u001b[39mn_samples = \u001b[39m\u001b[39m{\u001b[39;00mX\u001b[39m.\u001b[39mshape[\u001b[39m0\u001b[39m]\u001b[39m}\u001b[39;00m\u001b[39m\"\u001b[39m\n\u001b[0;32m    <a href='file:///~/AppData/Local/Programs/Python/Python310/lib/site-packages/sklearn/mixture/_base.py?line=233'>234</a>\u001b[0m         )\n",
      "File \u001b[1;32m~\\AppData\\Local\\Programs\\Python\\Python310\\lib\\site-packages\\sklearn\\base.py:566\u001b[0m, in \u001b[0;36mBaseEstimator._validate_data\u001b[1;34m(self, X, y, reset, validate_separately, **check_params)\u001b[0m\n\u001b[0;32m    <a href='file:///~/AppData/Local/Programs/Python/Python310/lib/site-packages/sklearn/base.py?line=563'>564</a>\u001b[0m     \u001b[39mraise\u001b[39;00m \u001b[39mValueError\u001b[39;00m(\u001b[39m\"\u001b[39m\u001b[39mValidation should be done on X, y or both.\u001b[39m\u001b[39m\"\u001b[39m)\n\u001b[0;32m    <a href='file:///~/AppData/Local/Programs/Python/Python310/lib/site-packages/sklearn/base.py?line=564'>565</a>\u001b[0m \u001b[39melif\u001b[39;00m \u001b[39mnot\u001b[39;00m no_val_X \u001b[39mand\u001b[39;00m no_val_y:\n\u001b[1;32m--> <a href='file:///~/AppData/Local/Programs/Python/Python310/lib/site-packages/sklearn/base.py?line=565'>566</a>\u001b[0m     X \u001b[39m=\u001b[39m check_array(X, \u001b[39m*\u001b[39m\u001b[39m*\u001b[39mcheck_params)\n\u001b[0;32m    <a href='file:///~/AppData/Local/Programs/Python/Python310/lib/site-packages/sklearn/base.py?line=566'>567</a>\u001b[0m     out \u001b[39m=\u001b[39m X\n\u001b[0;32m    <a href='file:///~/AppData/Local/Programs/Python/Python310/lib/site-packages/sklearn/base.py?line=567'>568</a>\u001b[0m \u001b[39melif\u001b[39;00m no_val_X \u001b[39mand\u001b[39;00m \u001b[39mnot\u001b[39;00m no_val_y:\n",
      "File \u001b[1;32m~\\AppData\\Local\\Programs\\Python\\Python310\\lib\\site-packages\\sklearn\\utils\\validation.py:794\u001b[0m, in \u001b[0;36mcheck_array\u001b[1;34m(array, accept_sparse, accept_large_sparse, dtype, order, copy, force_all_finite, ensure_2d, allow_nd, ensure_min_samples, ensure_min_features, estimator)\u001b[0m\n\u001b[0;32m    <a href='file:///~/AppData/Local/Programs/Python/Python310/lib/site-packages/sklearn/utils/validation.py?line=788'>789</a>\u001b[0m         \u001b[39mraise\u001b[39;00m \u001b[39mValueError\u001b[39;00m(\n\u001b[0;32m    <a href='file:///~/AppData/Local/Programs/Python/Python310/lib/site-packages/sklearn/utils/validation.py?line=789'>790</a>\u001b[0m             \u001b[39m\"\u001b[39m\u001b[39mUnable to convert array of bytes/strings \u001b[39m\u001b[39m\"\u001b[39m\n\u001b[0;32m    <a href='file:///~/AppData/Local/Programs/Python/Python310/lib/site-packages/sklearn/utils/validation.py?line=790'>791</a>\u001b[0m             \u001b[39m\"\u001b[39m\u001b[39minto decimal numbers with dtype=\u001b[39m\u001b[39m'\u001b[39m\u001b[39mnumeric\u001b[39m\u001b[39m'\u001b[39m\u001b[39m\"\u001b[39m\n\u001b[0;32m    <a href='file:///~/AppData/Local/Programs/Python/Python310/lib/site-packages/sklearn/utils/validation.py?line=791'>792</a>\u001b[0m         ) \u001b[39mfrom\u001b[39;00m \u001b[39me\u001b[39;00m\n\u001b[0;32m    <a href='file:///~/AppData/Local/Programs/Python/Python310/lib/site-packages/sklearn/utils/validation.py?line=792'>793</a>\u001b[0m \u001b[39mif\u001b[39;00m \u001b[39mnot\u001b[39;00m allow_nd \u001b[39mand\u001b[39;00m array\u001b[39m.\u001b[39mndim \u001b[39m>\u001b[39m\u001b[39m=\u001b[39m \u001b[39m3\u001b[39m:\n\u001b[1;32m--> <a href='file:///~/AppData/Local/Programs/Python/Python310/lib/site-packages/sklearn/utils/validation.py?line=793'>794</a>\u001b[0m     \u001b[39mraise\u001b[39;00m \u001b[39mValueError\u001b[39;00m(\n\u001b[0;32m    <a href='file:///~/AppData/Local/Programs/Python/Python310/lib/site-packages/sklearn/utils/validation.py?line=794'>795</a>\u001b[0m         \u001b[39m\"\u001b[39m\u001b[39mFound array with dim \u001b[39m\u001b[39m%d\u001b[39;00m\u001b[39m. \u001b[39m\u001b[39m%s\u001b[39;00m\u001b[39m expected <= 2.\u001b[39m\u001b[39m\"\u001b[39m\n\u001b[0;32m    <a href='file:///~/AppData/Local/Programs/Python/Python310/lib/site-packages/sklearn/utils/validation.py?line=795'>796</a>\u001b[0m         \u001b[39m%\u001b[39m (array\u001b[39m.\u001b[39mndim, estimator_name)\n\u001b[0;32m    <a href='file:///~/AppData/Local/Programs/Python/Python310/lib/site-packages/sklearn/utils/validation.py?line=796'>797</a>\u001b[0m     )\n\u001b[0;32m    <a href='file:///~/AppData/Local/Programs/Python/Python310/lib/site-packages/sklearn/utils/validation.py?line=798'>799</a>\u001b[0m \u001b[39mif\u001b[39;00m force_all_finite:\n\u001b[0;32m    <a href='file:///~/AppData/Local/Programs/Python/Python310/lib/site-packages/sklearn/utils/validation.py?line=799'>800</a>\u001b[0m     _assert_all_finite(array, allow_nan\u001b[39m=\u001b[39mforce_all_finite \u001b[39m==\u001b[39m \u001b[39m\"\u001b[39m\u001b[39mallow-nan\u001b[39m\u001b[39m\"\u001b[39m)\n",
      "\u001b[1;31mValueError\u001b[0m: Found array with dim 3. Estimator expected <= 2."
     ]
    }
   ],
   "source": [
    "from sklearn import mixture\n",
    "gmm = mixture.GaussianMixture(n_components=2).fit(test_arrays)\n",
    "\n",
    "#plt.scatter(X[:, 0], X[:, 1], c=classes, s=40, cmap='viridis')"
   ]
  },
  {
   "cell_type": "code",
   "execution_count": null,
   "metadata": {},
   "outputs": [],
   "source": [
    "probs = gmm.predict_proba(test_arrays)"
   ]
  },
  {
   "cell_type": "code",
   "execution_count": 32,
   "metadata": {},
   "outputs": [
    {
     "name": "stdout",
     "output_type": "stream",
     "text": [
      "Ignoring empty camera frame.\n",
      "Ignoring empty camera frame.\n",
      "Ignoring empty camera frame.\n",
      "Ignoring empty camera frame.\n",
      "(995, 43)\n",
      "(44, 43)\n",
      "(945, 43)\n",
      "(39, 43)\n"
     ]
    }
   ],
   "source": [
    "#from data import Data\n",
    "\n",
    "train_df_five=read_video(r'C:\\Users\\franc\\Desktop\\RT_Detection_AGV\\data\\five\\test3.mp4')\n",
    "test_df_five=read_video(r'C:\\Users\\franc\\Desktop\\RT_Detection_AGV\\data\\five\\test1.mp4')\n",
    "\n",
    "train_df_pouce=read_video(r'C:\\Users\\franc\\Desktop\\RT_Detection_AGV\\data\\pouce\\pouce_train.mp4')\n",
    "test_df_pouce=read_video(r'C:\\Users\\franc\\Desktop\\RT_Detection_AGV\\data\\pouce\\pouce_test.mp4')\n",
    "\n",
    "print(train_df_five.shape)\n",
    "print(test_df_five.shape)\n",
    "print(train_df_pouce.shape)\n",
    "print(test_df_pouce.shape)"
   ]
  },
  {
   "cell_type": "code",
   "execution_count": 56,
   "metadata": {},
   "outputs": [
    {
     "name": "stdout",
     "output_type": "stream",
     "text": [
      "(900, 43)\n",
      "9\n",
      "[100, 100, 100, 100, 100, 100, 100, 100, 100]\n"
     ]
    }
   ],
   "source": [
    "train_arrays=train_df_five.to_numpy()\n",
    "train_arrays=train_arrays[:900, :]\n",
    "#lenght of each sample\n",
    "train_arrays_lengths=[100,100,100,100,100,100,100,100,100]\n",
    "print(train_arrays.shape)\n",
    "print(len(train_arrays_lengths))\n",
    "print(train_arrays_lengths)\n",
    "\n"
   ]
  },
  {
   "cell_type": "code",
   "execution_count": 57,
   "metadata": {},
   "outputs": [
    {
     "data": {
      "text/plain": [
       "(900, 43)"
      ]
     },
     "execution_count": 57,
     "metadata": {},
     "output_type": "execute_result"
    }
   ],
   "source": [
    "train_arrays = np.expand_dims(train_arrays, axis = 0)\n",
    "train_arrays[0].shape"
   ]
  },
  {
   "cell_type": "code",
   "execution_count": 60,
   "metadata": {},
   "outputs": [
    {
     "name": "stdout",
     "output_type": "stream",
     "text": [
      "(900, 43)\n",
      "9\n",
      "[100, 100, 100, 100, 100, 100, 100, 100, 100]\n"
     ]
    }
   ],
   "source": [
    "train_arrays22=train_df_pouce.to_numpy()\n",
    "\n",
    "train_arrays22=train_arrays22[:900, :]\n",
    "#lenght of each sample\n",
    "train_arrays_lengths22=[100,100,100,100,100,100,100,100,100]\n",
    "print(train_arrays22.shape)\n",
    "print(len(train_arrays_lengths22))\n",
    "print(train_arrays_lengths22)\n",
    "\n",
    "train_arrays22 = np.expand_dims(train_arrays22, axis = 0)"
   ]
  },
  {
   "cell_type": "code",
   "execution_count": 61,
   "metadata": {},
   "outputs": [],
   "source": [
    "train_arrays = np.append(train_arrays, train_arrays22, axis=0)"
   ]
  },
  {
   "cell_type": "code",
   "execution_count": 133,
   "metadata": {},
   "outputs": [
    {
     "data": {
      "text/plain": [
       "(1940, 42)"
      ]
     },
     "execution_count": 133,
     "metadata": {},
     "output_type": "execute_result"
    }
   ],
   "source": []
  },
  {
   "cell_type": "code",
   "execution_count": 67,
   "metadata": {},
   "outputs": [],
   "source": [
    "\n",
    "train_arrays_lengths=[train_arrays_lengths,train_arrays_lengths22]"
   ]
  },
  {
   "cell_type": "code",
   "execution_count": 171,
   "metadata": {},
   "outputs": [
    {
     "name": "stdout",
     "output_type": "stream",
     "text": [
      "(44, 42)\n"
     ]
    }
   ],
   "source": [
    "#df=df[['x_r_hand','y_r_hand']]    \n",
    "data=df.to_numpy()\n",
    "\n",
    "#data=data[30:34,1:]\n",
    "data=data[:,1:]\n",
    "print(data.shape)\n"
   ]
  },
  {
   "cell_type": "markdown",
   "metadata": {},
   "source": [
    "GMM"
   ]
  },
  {
   "cell_type": "code",
   "execution_count": 72,
   "metadata": {},
   "outputs": [],
   "source": [
    "import matplotlib.pyplot as plt\n",
    "import seaborn as sns\n",
    "import numpy as np"
   ]
  },
  {
   "cell_type": "code",
   "execution_count": 74,
   "metadata": {},
   "outputs": [],
   "source": [
    "# Generate some data\n",
    "from sklearn.datasets import make_blobs\n",
    "\n",
    "X, y_true = make_blobs(n_samples=400, centers=4,\n",
    "                       cluster_std=0.60, random_state=0)\n",
    "X = X[:, ::-1] # flip axes for better plotting\n"
   ]
  },
  {
   "cell_type": "code",
   "execution_count": 145,
   "metadata": {},
   "outputs": [
    {
     "data": {
      "text/plain": [
       "(2,)"
      ]
     },
     "execution_count": 145,
     "metadata": {},
     "output_type": "execute_result"
    }
   ],
   "source": [
    "train_arrays.shape"
   ]
  },
  {
   "cell_type": "code",
   "execution_count": 167,
   "metadata": {},
   "outputs": [
    {
     "data": {
      "text/plain": [
       "(200, 42)"
      ]
     },
     "execution_count": 167,
     "metadata": {},
     "output_type": "execute_result"
    }
   ],
   "source": [
    "T=np.array(train_arrays[1][:100,:])\n",
    "T=np.append(T,train_arrays[0][:100,:] ,axis=0)\n",
    "T.shape"
   ]
  },
  {
   "cell_type": "code",
   "execution_count": 168,
   "metadata": {},
   "outputs": [
    {
     "data": {
      "text/plain": [
       "<matplotlib.collections.PathCollection at 0x123364d2800>"
      ]
     },
     "execution_count": 168,
     "metadata": {},
     "output_type": "execute_result"
    },
    {
     "data": {
      "image/png": "[encoded data removed]",
      "text/plain": [
       "<Figure size 432x288 with 1 Axes>"
      ]
     },
     "metadata": {},
     "output_type": "display_data"
    }
   ],
   "source": [
    "from sklearn import mixture\n",
    "gmm = mixture.GaussianMixture(n_components=2).fit(T)\n",
    "\n",
    "plt.scatter(T[:400, 0], T[:400, 1], s=40, cmap='viridis')"
   ]
  },
  {
   "cell_type": "code",
   "execution_count": 169,
   "metadata": {},
   "outputs": [
    {
     "data": {
      "text/plain": [
       "(5, 42)"
      ]
     },
     "execution_count": 169,
     "metadata": {},
     "output_type": "execute_result"
    }
   ],
   "source": [
    "test_arrays[0][:5,:].shape"
   ]
  },
  {
   "cell_type": "code",
   "execution_count": 170,
   "metadata": {},
   "outputs": [
    {
     "name": "stdout",
     "output_type": "stream",
     "text": [
      "[[0. 1.]\n",
      " [0. 1.]\n",
      " [0. 1.]\n",
      " [0. 1.]\n",
      " [0. 1.]]\n"
     ]
    }
   ],
   "source": [
    "probs = gmm.predict_proba(test_arrays[0][:5,:])\n",
    "print(probs[:5].round(3))"
   ]
  },
  {
   "cell_type": "code",
   "execution_count": 171,
   "metadata": {},
   "outputs": [
    {
     "name": "stdout",
     "output_type": "stream",
     "text": [
      "[[0. 1.]\n",
      " [0. 1.]\n",
      " [0. 1.]\n",
      " [0. 1.]\n",
      " [0. 1.]]\n"
     ]
    }
   ],
   "source": [
    "probs = gmm.predict_proba(test_arrays[1][:5,:])\n",
    "print(probs[:5].round(3))"
   ]
  },
  {
   "cell_type": "code",
   "execution_count": null,
   "metadata": {},
   "outputs": [],
   "source": []
  }
 ],
 "metadata": {
  "kernelspec": {
   "display_name": "Python 3",
   "language": "python",
   "name": "python3"
  },
  "language_info": {
   "codemirror_mode": {
    "name": "ipython",
    "version": 3
   },
   "file_extension": ".py",
   "mimetype": "text/x-python",
   "name": "python",
   "nbconvert_exporter": "python",
   "pygments_lexer": "ipython3",
   "version": "3.10.2"
  }
 },
 "nbformat": 4,
 "nbformat_minor": 2
}
